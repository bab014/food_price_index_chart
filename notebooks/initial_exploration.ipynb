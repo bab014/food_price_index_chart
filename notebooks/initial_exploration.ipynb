{
 "cells": [
  {
   "cell_type": "markdown",
   "metadata": {},
   "source": [
    "# Food Index Chart"
   ]
  },
  {
   "cell_type": "code",
   "execution_count": 14,
   "metadata": {},
   "outputs": [],
   "source": [
    "import os\n",
    "import pandas as pd\n",
    "from pathlib import Path\n",
    "import plotly.express as px"
   ]
  },
  {
   "cell_type": "code",
   "execution_count": 2,
   "metadata": {},
   "outputs": [],
   "source": [
    "data_dir = os.path.join(str(Path(os.getcwd()).parent), 'data')\n",
    "data_file = 'Food_price_indices_data_apr861.csv'"
   ]
  },
  {
   "cell_type": "markdown",
   "metadata": {},
   "source": [
    "## Reading in Dataset"
   ]
  },
  {
   "cell_type": "code",
   "execution_count": 3,
   "metadata": {},
   "outputs": [
    {
     "data": {
      "text/html": [
       "<div>\n",
       "<style scoped>\n",
       "    .dataframe tbody tr th:only-of-type {\n",
       "        vertical-align: middle;\n",
       "    }\n",
       "\n",
       "    .dataframe tbody tr th {\n",
       "        vertical-align: top;\n",
       "    }\n",
       "\n",
       "    .dataframe thead th {\n",
       "        text-align: right;\n",
       "    }\n",
       "</style>\n",
       "<table border=\"1\" class=\"dataframe\">\n",
       "  <thead>\n",
       "    <tr style=\"text-align: right;\">\n",
       "      <th></th>\n",
       "      <th>Date</th>\n",
       "      <th>Food Price Index</th>\n",
       "      <th>Meat</th>\n",
       "      <th>Dairy</th>\n",
       "      <th>Cereals</th>\n",
       "      <th>Oils</th>\n",
       "      <th>Sugar</th>\n",
       "      <th>Unnamed: 7</th>\n",
       "      <th>Unnamed: 8</th>\n",
       "      <th>Unnamed: 9</th>\n",
       "      <th>...</th>\n",
       "      <th>Unnamed: 27</th>\n",
       "      <th>Unnamed: 28</th>\n",
       "      <th>Unnamed: 29</th>\n",
       "      <th>Unnamed: 30</th>\n",
       "      <th>Unnamed: 31</th>\n",
       "      <th>Unnamed: 32</th>\n",
       "      <th>Unnamed: 33</th>\n",
       "      <th>Unnamed: 34</th>\n",
       "      <th>Unnamed: 35</th>\n",
       "      <th>Unnamed: 36</th>\n",
       "    </tr>\n",
       "  </thead>\n",
       "  <tbody>\n",
       "    <tr>\n",
       "      <th>0</th>\n",
       "      <td>NaN</td>\n",
       "      <td>NaN</td>\n",
       "      <td>NaN</td>\n",
       "      <td>NaN</td>\n",
       "      <td>NaN</td>\n",
       "      <td>NaN</td>\n",
       "      <td>NaN</td>\n",
       "      <td>NaN</td>\n",
       "      <td>NaN</td>\n",
       "      <td>NaN</td>\n",
       "      <td>...</td>\n",
       "      <td>NaN</td>\n",
       "      <td>NaN</td>\n",
       "      <td>NaN</td>\n",
       "      <td>NaN</td>\n",
       "      <td>NaN</td>\n",
       "      <td>NaN</td>\n",
       "      <td>NaN</td>\n",
       "      <td>NaN</td>\n",
       "      <td>NaN</td>\n",
       "      <td>NaN</td>\n",
       "    </tr>\n",
       "    <tr>\n",
       "      <th>1</th>\n",
       "      <td>1990-01</td>\n",
       "      <td>64.1</td>\n",
       "      <td>73.4</td>\n",
       "      <td>53.5</td>\n",
       "      <td>64.1</td>\n",
       "      <td>44.59</td>\n",
       "      <td>87.9</td>\n",
       "      <td>NaN</td>\n",
       "      <td>NaN</td>\n",
       "      <td>NaN</td>\n",
       "      <td>...</td>\n",
       "      <td>NaN</td>\n",
       "      <td>NaN</td>\n",
       "      <td>NaN</td>\n",
       "      <td>NaN</td>\n",
       "      <td>NaN</td>\n",
       "      <td>NaN</td>\n",
       "      <td>NaN</td>\n",
       "      <td>NaN</td>\n",
       "      <td>NaN</td>\n",
       "      <td>NaN</td>\n",
       "    </tr>\n",
       "    <tr>\n",
       "      <th>2</th>\n",
       "      <td>1990-02</td>\n",
       "      <td>64.5</td>\n",
       "      <td>76.0</td>\n",
       "      <td>52.2</td>\n",
       "      <td>62.2</td>\n",
       "      <td>44.50</td>\n",
       "      <td>90.7</td>\n",
       "      <td>NaN</td>\n",
       "      <td>NaN</td>\n",
       "      <td>NaN</td>\n",
       "      <td>...</td>\n",
       "      <td>NaN</td>\n",
       "      <td>NaN</td>\n",
       "      <td>NaN</td>\n",
       "      <td>NaN</td>\n",
       "      <td>NaN</td>\n",
       "      <td>NaN</td>\n",
       "      <td>NaN</td>\n",
       "      <td>NaN</td>\n",
       "      <td>NaN</td>\n",
       "      <td>NaN</td>\n",
       "    </tr>\n",
       "    <tr>\n",
       "      <th>3</th>\n",
       "      <td>1990-03</td>\n",
       "      <td>63.8</td>\n",
       "      <td>77.8</td>\n",
       "      <td>41.4</td>\n",
       "      <td>61.3</td>\n",
       "      <td>45.75</td>\n",
       "      <td>95.1</td>\n",
       "      <td>NaN</td>\n",
       "      <td>NaN</td>\n",
       "      <td>NaN</td>\n",
       "      <td>...</td>\n",
       "      <td>NaN</td>\n",
       "      <td>NaN</td>\n",
       "      <td>NaN</td>\n",
       "      <td>NaN</td>\n",
       "      <td>NaN</td>\n",
       "      <td>NaN</td>\n",
       "      <td>NaN</td>\n",
       "      <td>NaN</td>\n",
       "      <td>NaN</td>\n",
       "      <td>NaN</td>\n",
       "    </tr>\n",
       "    <tr>\n",
       "      <th>4</th>\n",
       "      <td>1990-04</td>\n",
       "      <td>65.8</td>\n",
       "      <td>80.4</td>\n",
       "      <td>48.4</td>\n",
       "      <td>62.8</td>\n",
       "      <td>44.02</td>\n",
       "      <td>94.3</td>\n",
       "      <td>NaN</td>\n",
       "      <td>NaN</td>\n",
       "      <td>NaN</td>\n",
       "      <td>...</td>\n",
       "      <td>NaN</td>\n",
       "      <td>NaN</td>\n",
       "      <td>NaN</td>\n",
       "      <td>NaN</td>\n",
       "      <td>NaN</td>\n",
       "      <td>NaN</td>\n",
       "      <td>NaN</td>\n",
       "      <td>NaN</td>\n",
       "      <td>NaN</td>\n",
       "      <td>NaN</td>\n",
       "    </tr>\n",
       "  </tbody>\n",
       "</table>\n",
       "<p>5 rows × 37 columns</p>\n",
       "</div>"
      ],
      "text/plain": [
       "      Date  Food Price Index  Meat  Dairy  Cereals   Oils  Sugar  Unnamed: 7  \\\n",
       "0      NaN               NaN   NaN    NaN      NaN    NaN    NaN         NaN   \n",
       "1  1990-01              64.1  73.4   53.5     64.1  44.59   87.9         NaN   \n",
       "2  1990-02              64.5  76.0   52.2     62.2  44.50   90.7         NaN   \n",
       "3  1990-03              63.8  77.8   41.4     61.3  45.75   95.1         NaN   \n",
       "4  1990-04              65.8  80.4   48.4     62.8  44.02   94.3         NaN   \n",
       "\n",
       "   Unnamed: 8  Unnamed: 9  ...  Unnamed: 27  Unnamed: 28  Unnamed: 29  \\\n",
       "0         NaN         NaN  ...          NaN          NaN          NaN   \n",
       "1         NaN         NaN  ...          NaN          NaN          NaN   \n",
       "2         NaN         NaN  ...          NaN          NaN          NaN   \n",
       "3         NaN         NaN  ...          NaN          NaN          NaN   \n",
       "4         NaN         NaN  ...          NaN          NaN          NaN   \n",
       "\n",
       "   Unnamed: 30  Unnamed: 31  Unnamed: 32  Unnamed: 33  Unnamed: 34  \\\n",
       "0          NaN          NaN          NaN          NaN          NaN   \n",
       "1          NaN          NaN          NaN          NaN          NaN   \n",
       "2          NaN          NaN          NaN          NaN          NaN   \n",
       "3          NaN          NaN          NaN          NaN          NaN   \n",
       "4          NaN          NaN          NaN          NaN          NaN   \n",
       "\n",
       "   Unnamed: 35  Unnamed: 36  \n",
       "0          NaN          NaN  \n",
       "1          NaN          NaN  \n",
       "2          NaN          NaN  \n",
       "3          NaN          NaN  \n",
       "4          NaN          NaN  \n",
       "\n",
       "[5 rows x 37 columns]"
      ]
     },
     "execution_count": 3,
     "metadata": {},
     "output_type": "execute_result"
    }
   ],
   "source": [
    "raw = pd.read_csv(os.path.join(data_dir, data_file), header=2)\n",
    "raw.head()"
   ]
  },
  {
   "cell_type": "code",
   "execution_count": 4,
   "metadata": {},
   "outputs": [
    {
     "name": "stdout",
     "output_type": "stream",
     "text": [
      "<class 'pandas.core.frame.DataFrame'>\n",
      "RangeIndex: 387 entries, 1 to 387\n",
      "Data columns (total 7 columns):\n",
      " #   Column            Non-Null Count  Dtype  \n",
      "---  ------            --------------  -----  \n",
      " 0   Date              387 non-null    object \n",
      " 1   Food Price Index  387 non-null    float64\n",
      " 2   Meat              387 non-null    float64\n",
      " 3   Dairy             387 non-null    float64\n",
      " 4   Cereals           387 non-null    float64\n",
      " 5   Oils              387 non-null    float64\n",
      " 6   Sugar             387 non-null    float64\n",
      "dtypes: float64(6), object(1)\n",
      "memory usage: 21.3+ KB\n"
     ]
    }
   ],
   "source": [
    "initial = raw.iloc[1:,0:7]\n",
    "initial.info()"
   ]
  },
  {
   "cell_type": "code",
   "execution_count": 5,
   "metadata": {},
   "outputs": [],
   "source": [
    "transformed = (\n",
    "    initial\n",
    "     .rename(columns={col: col.lower().replace(' ', '_') for col in initial.columns.to_list()})\n",
    "     .assign(\n",
    "         year=lambda row: [cell.split('-')[0] for cell in row.date],\n",
    "         month=lambda row: [cell.split('-')[1] for cell in row.date]\n",
    "     )\n",
    "     .drop(columns=['date'])\n",
    "     .astype({'year': 'int16', 'month':'int8'})\n",
    "     .pivot(\n",
    "         index='month',\n",
    "         columns='year',\n",
    "         values='food_price_index'\n",
    "     )\n",
    ")"
   ]
  },
  {
   "cell_type": "code",
   "execution_count": 6,
   "metadata": {},
   "outputs": [
    {
     "data": {
      "text/html": [
       "<div>\n",
       "<style scoped>\n",
       "    .dataframe tbody tr th:only-of-type {\n",
       "        vertical-align: middle;\n",
       "    }\n",
       "\n",
       "    .dataframe tbody tr th {\n",
       "        vertical-align: top;\n",
       "    }\n",
       "\n",
       "    .dataframe thead th {\n",
       "        text-align: right;\n",
       "    }\n",
       "</style>\n",
       "<table border=\"1\" class=\"dataframe\">\n",
       "  <thead>\n",
       "    <tr style=\"text-align: right;\">\n",
       "      <th>year</th>\n",
       "      <th>1990</th>\n",
       "      <th>1991</th>\n",
       "      <th>1992</th>\n",
       "      <th>1993</th>\n",
       "      <th>1994</th>\n",
       "      <th>1995</th>\n",
       "      <th>1996</th>\n",
       "      <th>1997</th>\n",
       "      <th>1998</th>\n",
       "      <th>1999</th>\n",
       "      <th>...</th>\n",
       "      <th>2013</th>\n",
       "      <th>2014</th>\n",
       "      <th>2015</th>\n",
       "      <th>2016</th>\n",
       "      <th>2017</th>\n",
       "      <th>2018</th>\n",
       "      <th>2019</th>\n",
       "      <th>2020</th>\n",
       "      <th>2021</th>\n",
       "      <th>2022</th>\n",
       "    </tr>\n",
       "    <tr>\n",
       "      <th>month</th>\n",
       "      <th></th>\n",
       "      <th></th>\n",
       "      <th></th>\n",
       "      <th></th>\n",
       "      <th></th>\n",
       "      <th></th>\n",
       "      <th></th>\n",
       "      <th></th>\n",
       "      <th></th>\n",
       "      <th></th>\n",
       "      <th></th>\n",
       "      <th></th>\n",
       "      <th></th>\n",
       "      <th></th>\n",
       "      <th></th>\n",
       "      <th></th>\n",
       "      <th></th>\n",
       "      <th></th>\n",
       "      <th></th>\n",
       "      <th></th>\n",
       "      <th></th>\n",
       "    </tr>\n",
       "  </thead>\n",
       "  <tbody>\n",
       "    <tr>\n",
       "      <th>1</th>\n",
       "      <td>64.1</td>\n",
       "      <td>60.8</td>\n",
       "      <td>64.8</td>\n",
       "      <td>61.3</td>\n",
       "      <td>64.5</td>\n",
       "      <td>72.9</td>\n",
       "      <td>77.0</td>\n",
       "      <td>70.9</td>\n",
       "      <td>67.4</td>\n",
       "      <td>61.0</td>\n",
       "      <td>...</td>\n",
       "      <td>123.4</td>\n",
       "      <td>116.2</td>\n",
       "      <td>100.7</td>\n",
       "      <td>84.9</td>\n",
       "      <td>97.7</td>\n",
       "      <td>96.8</td>\n",
       "      <td>93.3</td>\n",
       "      <td>102.5</td>\n",
       "      <td>113.5</td>\n",
       "      <td>135.6</td>\n",
       "    </tr>\n",
       "    <tr>\n",
       "      <th>2</th>\n",
       "      <td>64.5</td>\n",
       "      <td>61.5</td>\n",
       "      <td>65.7</td>\n",
       "      <td>61.2</td>\n",
       "      <td>64.1</td>\n",
       "      <td>74.4</td>\n",
       "      <td>77.5</td>\n",
       "      <td>71.0</td>\n",
       "      <td>67.6</td>\n",
       "      <td>58.4</td>\n",
       "      <td>...</td>\n",
       "      <td>123.3</td>\n",
       "      <td>118.5</td>\n",
       "      <td>98.5</td>\n",
       "      <td>86.0</td>\n",
       "      <td>98.1</td>\n",
       "      <td>97.9</td>\n",
       "      <td>94.0</td>\n",
       "      <td>99.4</td>\n",
       "      <td>116.6</td>\n",
       "      <td>141.4</td>\n",
       "    </tr>\n",
       "    <tr>\n",
       "      <th>3</th>\n",
       "      <td>63.8</td>\n",
       "      <td>62.0</td>\n",
       "      <td>66.1</td>\n",
       "      <td>62.9</td>\n",
       "      <td>64.5</td>\n",
       "      <td>75.1</td>\n",
       "      <td>78.6</td>\n",
       "      <td>72.8</td>\n",
       "      <td>67.4</td>\n",
       "      <td>57.0</td>\n",
       "      <td>...</td>\n",
       "      <td>122.9</td>\n",
       "      <td>122.1</td>\n",
       "      <td>95.6</td>\n",
       "      <td>87.4</td>\n",
       "      <td>96.2</td>\n",
       "      <td>99.0</td>\n",
       "      <td>93.2</td>\n",
       "      <td>95.2</td>\n",
       "      <td>119.2</td>\n",
       "      <td>159.3</td>\n",
       "    </tr>\n",
       "    <tr>\n",
       "      <th>4</th>\n",
       "      <td>65.8</td>\n",
       "      <td>60.7</td>\n",
       "      <td>64.5</td>\n",
       "      <td>62.5</td>\n",
       "      <td>63.7</td>\n",
       "      <td>74.0</td>\n",
       "      <td>80.8</td>\n",
       "      <td>73.4</td>\n",
       "      <td>66.8</td>\n",
       "      <td>55.8</td>\n",
       "      <td>...</td>\n",
       "      <td>122.9</td>\n",
       "      <td>121.5</td>\n",
       "      <td>94.7</td>\n",
       "      <td>89.2</td>\n",
       "      <td>95.1</td>\n",
       "      <td>98.6</td>\n",
       "      <td>93.6</td>\n",
       "      <td>92.5</td>\n",
       "      <td>122.1</td>\n",
       "      <td>NaN</td>\n",
       "    </tr>\n",
       "    <tr>\n",
       "      <th>5</th>\n",
       "      <td>64.4</td>\n",
       "      <td>60.6</td>\n",
       "      <td>64.8</td>\n",
       "      <td>62.0</td>\n",
       "      <td>65.6</td>\n",
       "      <td>74.0</td>\n",
       "      <td>82.4</td>\n",
       "      <td>72.8</td>\n",
       "      <td>66.4</td>\n",
       "      <td>55.4</td>\n",
       "      <td>...</td>\n",
       "      <td>122.1</td>\n",
       "      <td>121.3</td>\n",
       "      <td>95.0</td>\n",
       "      <td>90.6</td>\n",
       "      <td>97.4</td>\n",
       "      <td>98.7</td>\n",
       "      <td>94.3</td>\n",
       "      <td>91.1</td>\n",
       "      <td>128.1</td>\n",
       "      <td>NaN</td>\n",
       "    </tr>\n",
       "    <tr>\n",
       "      <th>6</th>\n",
       "      <td>63.7</td>\n",
       "      <td>61.0</td>\n",
       "      <td>65.6</td>\n",
       "      <td>61.5</td>\n",
       "      <td>65.2</td>\n",
       "      <td>75.1</td>\n",
       "      <td>80.5</td>\n",
       "      <td>70.2</td>\n",
       "      <td>64.2</td>\n",
       "      <td>54.6</td>\n",
       "      <td>...</td>\n",
       "      <td>120.9</td>\n",
       "      <td>119.3</td>\n",
       "      <td>94.5</td>\n",
       "      <td>93.8</td>\n",
       "      <td>98.0</td>\n",
       "      <td>97.0</td>\n",
       "      <td>95.4</td>\n",
       "      <td>93.3</td>\n",
       "      <td>125.3</td>\n",
       "      <td>NaN</td>\n",
       "    </tr>\n",
       "    <tr>\n",
       "      <th>7</th>\n",
       "      <td>62.5</td>\n",
       "      <td>61.8</td>\n",
       "      <td>64.4</td>\n",
       "      <td>61.9</td>\n",
       "      <td>63.9</td>\n",
       "      <td>79.5</td>\n",
       "      <td>80.2</td>\n",
       "      <td>68.4</td>\n",
       "      <td>64.3</td>\n",
       "      <td>52.6</td>\n",
       "      <td>...</td>\n",
       "      <td>117.9</td>\n",
       "      <td>116.4</td>\n",
       "      <td>93.8</td>\n",
       "      <td>93.0</td>\n",
       "      <td>100.2</td>\n",
       "      <td>95.1</td>\n",
       "      <td>95.1</td>\n",
       "      <td>94.0</td>\n",
       "      <td>124.6</td>\n",
       "      <td>NaN</td>\n",
       "    </tr>\n",
       "    <tr>\n",
       "      <th>8</th>\n",
       "      <td>61.5</td>\n",
       "      <td>61.4</td>\n",
       "      <td>62.8</td>\n",
       "      <td>60.5</td>\n",
       "      <td>66.2</td>\n",
       "      <td>78.0</td>\n",
       "      <td>79.9</td>\n",
       "      <td>69.8</td>\n",
       "      <td>62.4</td>\n",
       "      <td>54.4</td>\n",
       "      <td>...</td>\n",
       "      <td>116.2</td>\n",
       "      <td>113.0</td>\n",
       "      <td>89.6</td>\n",
       "      <td>95.3</td>\n",
       "      <td>99.3</td>\n",
       "      <td>96.0</td>\n",
       "      <td>94.1</td>\n",
       "      <td>95.9</td>\n",
       "      <td>128.0</td>\n",
       "      <td>NaN</td>\n",
       "    </tr>\n",
       "    <tr>\n",
       "      <th>9</th>\n",
       "      <td>61.0</td>\n",
       "      <td>62.1</td>\n",
       "      <td>63.5</td>\n",
       "      <td>60.9</td>\n",
       "      <td>69.3</td>\n",
       "      <td>78.3</td>\n",
       "      <td>76.9</td>\n",
       "      <td>70.0</td>\n",
       "      <td>61.9</td>\n",
       "      <td>54.6</td>\n",
       "      <td>...</td>\n",
       "      <td>116.4</td>\n",
       "      <td>109.3</td>\n",
       "      <td>89.0</td>\n",
       "      <td>96.1</td>\n",
       "      <td>99.9</td>\n",
       "      <td>94.2</td>\n",
       "      <td>93.4</td>\n",
       "      <td>98.0</td>\n",
       "      <td>129.2</td>\n",
       "      <td>NaN</td>\n",
       "    </tr>\n",
       "    <tr>\n",
       "      <th>10</th>\n",
       "      <td>61.1</td>\n",
       "      <td>64.3</td>\n",
       "      <td>61.5</td>\n",
       "      <td>61.2</td>\n",
       "      <td>69.9</td>\n",
       "      <td>80.4</td>\n",
       "      <td>74.1</td>\n",
       "      <td>69.8</td>\n",
       "      <td>62.7</td>\n",
       "      <td>53.2</td>\n",
       "      <td>...</td>\n",
       "      <td>118.8</td>\n",
       "      <td>109.4</td>\n",
       "      <td>90.4</td>\n",
       "      <td>95.9</td>\n",
       "      <td>98.9</td>\n",
       "      <td>93.3</td>\n",
       "      <td>95.2</td>\n",
       "      <td>101.4</td>\n",
       "      <td>133.2</td>\n",
       "      <td>NaN</td>\n",
       "    </tr>\n",
       "    <tr>\n",
       "      <th>11</th>\n",
       "      <td>61.9</td>\n",
       "      <td>64.4</td>\n",
       "      <td>62.4</td>\n",
       "      <td>63.0</td>\n",
       "      <td>73.2</td>\n",
       "      <td>79.8</td>\n",
       "      <td>72.5</td>\n",
       "      <td>70.3</td>\n",
       "      <td>62.6</td>\n",
       "      <td>53.2</td>\n",
       "      <td>...</td>\n",
       "      <td>118.7</td>\n",
       "      <td>108.2</td>\n",
       "      <td>87.7</td>\n",
       "      <td>95.8</td>\n",
       "      <td>98.9</td>\n",
       "      <td>92.2</td>\n",
       "      <td>98.6</td>\n",
       "      <td>105.6</td>\n",
       "      <td>135.3</td>\n",
       "      <td>NaN</td>\n",
       "    </tr>\n",
       "    <tr>\n",
       "      <th>12</th>\n",
       "      <td>61.9</td>\n",
       "      <td>64.1</td>\n",
       "      <td>61.0</td>\n",
       "      <td>64.3</td>\n",
       "      <td>73.1</td>\n",
       "      <td>78.0</td>\n",
       "      <td>71.4</td>\n",
       "      <td>68.0</td>\n",
       "      <td>62.1</td>\n",
       "      <td>51.9</td>\n",
       "      <td>...</td>\n",
       "      <td>118.2</td>\n",
       "      <td>105.1</td>\n",
       "      <td>87.1</td>\n",
       "      <td>95.1</td>\n",
       "      <td>96.4</td>\n",
       "      <td>92.2</td>\n",
       "      <td>101.0</td>\n",
       "      <td>108.6</td>\n",
       "      <td>133.7</td>\n",
       "      <td>NaN</td>\n",
       "    </tr>\n",
       "  </tbody>\n",
       "</table>\n",
       "<p>12 rows × 33 columns</p>\n",
       "</div>"
      ],
      "text/plain": [
       "year   1990  1991  1992  1993  1994  1995  1996  1997  1998  1999  ...   2013  \\\n",
       "month                                                              ...          \n",
       "1      64.1  60.8  64.8  61.3  64.5  72.9  77.0  70.9  67.4  61.0  ...  123.4   \n",
       "2      64.5  61.5  65.7  61.2  64.1  74.4  77.5  71.0  67.6  58.4  ...  123.3   \n",
       "3      63.8  62.0  66.1  62.9  64.5  75.1  78.6  72.8  67.4  57.0  ...  122.9   \n",
       "4      65.8  60.7  64.5  62.5  63.7  74.0  80.8  73.4  66.8  55.8  ...  122.9   \n",
       "5      64.4  60.6  64.8  62.0  65.6  74.0  82.4  72.8  66.4  55.4  ...  122.1   \n",
       "6      63.7  61.0  65.6  61.5  65.2  75.1  80.5  70.2  64.2  54.6  ...  120.9   \n",
       "7      62.5  61.8  64.4  61.9  63.9  79.5  80.2  68.4  64.3  52.6  ...  117.9   \n",
       "8      61.5  61.4  62.8  60.5  66.2  78.0  79.9  69.8  62.4  54.4  ...  116.2   \n",
       "9      61.0  62.1  63.5  60.9  69.3  78.3  76.9  70.0  61.9  54.6  ...  116.4   \n",
       "10     61.1  64.3  61.5  61.2  69.9  80.4  74.1  69.8  62.7  53.2  ...  118.8   \n",
       "11     61.9  64.4  62.4  63.0  73.2  79.8  72.5  70.3  62.6  53.2  ...  118.7   \n",
       "12     61.9  64.1  61.0  64.3  73.1  78.0  71.4  68.0  62.1  51.9  ...  118.2   \n",
       "\n",
       "year    2014   2015  2016   2017  2018   2019   2020   2021   2022  \n",
       "month                                                               \n",
       "1      116.2  100.7  84.9   97.7  96.8   93.3  102.5  113.5  135.6  \n",
       "2      118.5   98.5  86.0   98.1  97.9   94.0   99.4  116.6  141.4  \n",
       "3      122.1   95.6  87.4   96.2  99.0   93.2   95.2  119.2  159.3  \n",
       "4      121.5   94.7  89.2   95.1  98.6   93.6   92.5  122.1    NaN  \n",
       "5      121.3   95.0  90.6   97.4  98.7   94.3   91.1  128.1    NaN  \n",
       "6      119.3   94.5  93.8   98.0  97.0   95.4   93.3  125.3    NaN  \n",
       "7      116.4   93.8  93.0  100.2  95.1   95.1   94.0  124.6    NaN  \n",
       "8      113.0   89.6  95.3   99.3  96.0   94.1   95.9  128.0    NaN  \n",
       "9      109.3   89.0  96.1   99.9  94.2   93.4   98.0  129.2    NaN  \n",
       "10     109.4   90.4  95.9   98.9  93.3   95.2  101.4  133.2    NaN  \n",
       "11     108.2   87.7  95.8   98.9  92.2   98.6  105.6  135.3    NaN  \n",
       "12     105.1   87.1  95.1   96.4  92.2  101.0  108.6  133.7    NaN  \n",
       "\n",
       "[12 rows x 33 columns]"
      ]
     },
     "execution_count": 6,
     "metadata": {},
     "output_type": "execute_result"
    }
   ],
   "source": [
    "transformed"
   ]
  },
  {
   "cell_type": "code",
   "execution_count": 7,
   "metadata": {},
   "outputs": [
    {
     "data": {
      "text/html": [
       "<div>\n",
       "<style scoped>\n",
       "    .dataframe tbody tr th:only-of-type {\n",
       "        vertical-align: middle;\n",
       "    }\n",
       "\n",
       "    .dataframe tbody tr th {\n",
       "        vertical-align: top;\n",
       "    }\n",
       "\n",
       "    .dataframe thead th {\n",
       "        text-align: right;\n",
       "    }\n",
       "</style>\n",
       "<table border=\"1\" class=\"dataframe\">\n",
       "  <thead>\n",
       "    <tr style=\"text-align: right;\">\n",
       "      <th>year</th>\n",
       "      <th>2019</th>\n",
       "      <th>2020</th>\n",
       "      <th>2021</th>\n",
       "      <th>2022</th>\n",
       "    </tr>\n",
       "    <tr>\n",
       "      <th>month</th>\n",
       "      <th></th>\n",
       "      <th></th>\n",
       "      <th></th>\n",
       "      <th></th>\n",
       "    </tr>\n",
       "  </thead>\n",
       "  <tbody>\n",
       "    <tr>\n",
       "      <th>1</th>\n",
       "      <td>93.3</td>\n",
       "      <td>102.5</td>\n",
       "      <td>113.5</td>\n",
       "      <td>135.6</td>\n",
       "    </tr>\n",
       "    <tr>\n",
       "      <th>2</th>\n",
       "      <td>94.0</td>\n",
       "      <td>99.4</td>\n",
       "      <td>116.6</td>\n",
       "      <td>141.4</td>\n",
       "    </tr>\n",
       "    <tr>\n",
       "      <th>3</th>\n",
       "      <td>93.2</td>\n",
       "      <td>95.2</td>\n",
       "      <td>119.2</td>\n",
       "      <td>159.3</td>\n",
       "    </tr>\n",
       "    <tr>\n",
       "      <th>4</th>\n",
       "      <td>93.6</td>\n",
       "      <td>92.5</td>\n",
       "      <td>122.1</td>\n",
       "      <td>NaN</td>\n",
       "    </tr>\n",
       "    <tr>\n",
       "      <th>5</th>\n",
       "      <td>94.3</td>\n",
       "      <td>91.1</td>\n",
       "      <td>128.1</td>\n",
       "      <td>NaN</td>\n",
       "    </tr>\n",
       "    <tr>\n",
       "      <th>6</th>\n",
       "      <td>95.4</td>\n",
       "      <td>93.3</td>\n",
       "      <td>125.3</td>\n",
       "      <td>NaN</td>\n",
       "    </tr>\n",
       "    <tr>\n",
       "      <th>7</th>\n",
       "      <td>95.1</td>\n",
       "      <td>94.0</td>\n",
       "      <td>124.6</td>\n",
       "      <td>NaN</td>\n",
       "    </tr>\n",
       "    <tr>\n",
       "      <th>8</th>\n",
       "      <td>94.1</td>\n",
       "      <td>95.9</td>\n",
       "      <td>128.0</td>\n",
       "      <td>NaN</td>\n",
       "    </tr>\n",
       "    <tr>\n",
       "      <th>9</th>\n",
       "      <td>93.4</td>\n",
       "      <td>98.0</td>\n",
       "      <td>129.2</td>\n",
       "      <td>NaN</td>\n",
       "    </tr>\n",
       "    <tr>\n",
       "      <th>10</th>\n",
       "      <td>95.2</td>\n",
       "      <td>101.4</td>\n",
       "      <td>133.2</td>\n",
       "      <td>NaN</td>\n",
       "    </tr>\n",
       "    <tr>\n",
       "      <th>11</th>\n",
       "      <td>98.6</td>\n",
       "      <td>105.6</td>\n",
       "      <td>135.3</td>\n",
       "      <td>NaN</td>\n",
       "    </tr>\n",
       "    <tr>\n",
       "      <th>12</th>\n",
       "      <td>101.0</td>\n",
       "      <td>108.6</td>\n",
       "      <td>133.7</td>\n",
       "      <td>NaN</td>\n",
       "    </tr>\n",
       "  </tbody>\n",
       "</table>\n",
       "</div>"
      ],
      "text/plain": [
       "year    2019   2020   2021   2022\n",
       "month                            \n",
       "1       93.3  102.5  113.5  135.6\n",
       "2       94.0   99.4  116.6  141.4\n",
       "3       93.2   95.2  119.2  159.3\n",
       "4       93.6   92.5  122.1    NaN\n",
       "5       94.3   91.1  128.1    NaN\n",
       "6       95.4   93.3  125.3    NaN\n",
       "7       95.1   94.0  124.6    NaN\n",
       "8       94.1   95.9  128.0    NaN\n",
       "9       93.4   98.0  129.2    NaN\n",
       "10      95.2  101.4  133.2    NaN\n",
       "11      98.6  105.6  135.3    NaN\n",
       "12     101.0  108.6  133.7    NaN"
      ]
     },
     "execution_count": 7,
     "metadata": {},
     "output_type": "execute_result"
    }
   ],
   "source": [
    "graph_df = transformed.iloc[:,29:]\n",
    "graph_df"
   ]
  },
  {
   "cell_type": "code",
   "execution_count": 106,
   "metadata": {},
   "outputs": [],
   "source": [
    "colors = ['#cecece', '#b6b6b6', '#808080', '#c50027']"
   ]
  },
  {
   "cell_type": "code",
   "execution_count": 161,
   "metadata": {},
   "outputs": [
    {
     "data": {
      "application/vnd.plotly.v1+json": {
       "config": {
        "plotlyServerURL": "https://plot.ly"
       },
       "data": [
        {
         "line": {
          "color": "#cecece",
          "width": 3.5
         },
         "marker": {
          "opacity": 0
         },
         "name": "2019",
         "type": "scatter",
         "x": [
          1,
          2,
          3,
          4,
          5,
          6,
          7,
          8,
          9,
          10,
          11,
          12
         ],
         "y": [
          93.3,
          94,
          93.2,
          93.6,
          94.3,
          95.4,
          95.1,
          94.1,
          93.4,
          95.2,
          98.6,
          101
         ]
        },
        {
         "line": {
          "color": "#b6b6b6",
          "width": 3.5
         },
         "marker": {
          "opacity": 0
         },
         "name": "2020",
         "type": "scatter",
         "x": [
          1,
          2,
          3,
          4,
          5,
          6,
          7,
          8,
          9,
          10,
          11,
          12
         ],
         "y": [
          102.5,
          99.4,
          95.2,
          92.5,
          91.1,
          93.3,
          94,
          95.9,
          98,
          101.4,
          105.6,
          108.6
         ]
        },
        {
         "line": {
          "color": "#808080",
          "width": 3.5
         },
         "marker": {
          "opacity": 0
         },
         "name": "2021",
         "type": "scatter",
         "x": [
          1,
          2,
          3,
          4,
          5,
          6,
          7,
          8,
          9,
          10,
          11,
          12
         ],
         "y": [
          113.5,
          116.6,
          119.2,
          122.1,
          128.1,
          125.3,
          124.6,
          128,
          129.2,
          133.2,
          135.3,
          133.7
         ]
        },
        {
         "line": {
          "color": "#c50027",
          "width": 3.5
         },
         "marker": {
          "opacity": 0
         },
         "name": "2022",
         "type": "scatter",
         "x": [
          1,
          2,
          3,
          4,
          5,
          6,
          7,
          8,
          9,
          10,
          11,
          12
         ],
         "y": [
          135.6,
          141.4,
          159.3,
          null,
          null,
          null,
          null,
          null,
          null,
          null,
          null,
          null
         ]
        }
       ],
       "layout": {
        "annotations": [
         {
          "font": {
           "color": "#c50027",
           "family": "Arial, bold",
           "size": 18
          },
          "showarrow": false,
          "text": "<b>2022</b>",
          "x": 2.75,
          "xref": "x",
          "y": 140,
          "yref": "y"
         },
         {
          "font": {
           "color": "#808080",
           "family": "Arial, bold",
           "size": 18
          },
          "showarrow": false,
          "text": "<b>2021</b>",
          "x": 12,
          "xanchor": "right",
          "xref": "x",
          "y": 140,
          "yref": "y"
         },
         {
          "font": {
           "color": "#b6b6b6",
           "family": "Arial, bold",
           "size": 18
          },
          "showarrow": false,
          "text": "<b>2020</b>",
          "x": 12,
          "xanchor": "right",
          "xref": "x",
          "y": 115,
          "yref": "y"
         },
         {
          "font": {
           "color": "#cecece",
           "family": "Arial, bold",
           "size": 18
          },
          "showarrow": false,
          "text": "<b>2019</b>",
          "x": 12,
          "xanchor": "right",
          "xref": "x",
          "y": 95,
          "yref": "y"
         }
        ],
        "legend": {
         "tracegroupgap": 0
        },
        "margin": {
         "b": 45,
         "l": 45,
         "r": 45,
         "t": 45
        },
        "plot_bgcolor": "#fff",
        "shapes": [
         {
          "line": {
           "color": "#000",
           "width": 5
          },
          "type": "line",
          "x0": 0,
          "x1": 12,
          "y0": 75,
          "y1": 75
         }
        ],
        "showlegend": false,
        "template": {
         "data": {
          "bar": [
           {
            "error_x": {
             "color": "#2a3f5f"
            },
            "error_y": {
             "color": "#2a3f5f"
            },
            "marker": {
             "line": {
              "color": "#E5ECF6",
              "width": 0.5
             },
             "pattern": {
              "fillmode": "overlay",
              "size": 10,
              "solidity": 0.2
             }
            },
            "type": "bar"
           }
          ],
          "barpolar": [
           {
            "marker": {
             "line": {
              "color": "#E5ECF6",
              "width": 0.5
             },
             "pattern": {
              "fillmode": "overlay",
              "size": 10,
              "solidity": 0.2
             }
            },
            "type": "barpolar"
           }
          ],
          "carpet": [
           {
            "aaxis": {
             "endlinecolor": "#2a3f5f",
             "gridcolor": "white",
             "linecolor": "white",
             "minorgridcolor": "white",
             "startlinecolor": "#2a3f5f"
            },
            "baxis": {
             "endlinecolor": "#2a3f5f",
             "gridcolor": "white",
             "linecolor": "white",
             "minorgridcolor": "white",
             "startlinecolor": "#2a3f5f"
            },
            "type": "carpet"
           }
          ],
          "choropleth": [
           {
            "colorbar": {
             "outlinewidth": 0,
             "ticks": ""
            },
            "type": "choropleth"
           }
          ],
          "contour": [
           {
            "colorbar": {
             "outlinewidth": 0,
             "ticks": ""
            },
            "colorscale": [
             [
              0,
              "#0d0887"
             ],
             [
              0.1111111111111111,
              "#46039f"
             ],
             [
              0.2222222222222222,
              "#7201a8"
             ],
             [
              0.3333333333333333,
              "#9c179e"
             ],
             [
              0.4444444444444444,
              "#bd3786"
             ],
             [
              0.5555555555555556,
              "#d8576b"
             ],
             [
              0.6666666666666666,
              "#ed7953"
             ],
             [
              0.7777777777777778,
              "#fb9f3a"
             ],
             [
              0.8888888888888888,
              "#fdca26"
             ],
             [
              1,
              "#f0f921"
             ]
            ],
            "type": "contour"
           }
          ],
          "contourcarpet": [
           {
            "colorbar": {
             "outlinewidth": 0,
             "ticks": ""
            },
            "type": "contourcarpet"
           }
          ],
          "heatmap": [
           {
            "colorbar": {
             "outlinewidth": 0,
             "ticks": ""
            },
            "colorscale": [
             [
              0,
              "#0d0887"
             ],
             [
              0.1111111111111111,
              "#46039f"
             ],
             [
              0.2222222222222222,
              "#7201a8"
             ],
             [
              0.3333333333333333,
              "#9c179e"
             ],
             [
              0.4444444444444444,
              "#bd3786"
             ],
             [
              0.5555555555555556,
              "#d8576b"
             ],
             [
              0.6666666666666666,
              "#ed7953"
             ],
             [
              0.7777777777777778,
              "#fb9f3a"
             ],
             [
              0.8888888888888888,
              "#fdca26"
             ],
             [
              1,
              "#f0f921"
             ]
            ],
            "type": "heatmap"
           }
          ],
          "heatmapgl": [
           {
            "colorbar": {
             "outlinewidth": 0,
             "ticks": ""
            },
            "colorscale": [
             [
              0,
              "#0d0887"
             ],
             [
              0.1111111111111111,
              "#46039f"
             ],
             [
              0.2222222222222222,
              "#7201a8"
             ],
             [
              0.3333333333333333,
              "#9c179e"
             ],
             [
              0.4444444444444444,
              "#bd3786"
             ],
             [
              0.5555555555555556,
              "#d8576b"
             ],
             [
              0.6666666666666666,
              "#ed7953"
             ],
             [
              0.7777777777777778,
              "#fb9f3a"
             ],
             [
              0.8888888888888888,
              "#fdca26"
             ],
             [
              1,
              "#f0f921"
             ]
            ],
            "type": "heatmapgl"
           }
          ],
          "histogram": [
           {
            "marker": {
             "pattern": {
              "fillmode": "overlay",
              "size": 10,
              "solidity": 0.2
             }
            },
            "type": "histogram"
           }
          ],
          "histogram2d": [
           {
            "colorbar": {
             "outlinewidth": 0,
             "ticks": ""
            },
            "colorscale": [
             [
              0,
              "#0d0887"
             ],
             [
              0.1111111111111111,
              "#46039f"
             ],
             [
              0.2222222222222222,
              "#7201a8"
             ],
             [
              0.3333333333333333,
              "#9c179e"
             ],
             [
              0.4444444444444444,
              "#bd3786"
             ],
             [
              0.5555555555555556,
              "#d8576b"
             ],
             [
              0.6666666666666666,
              "#ed7953"
             ],
             [
              0.7777777777777778,
              "#fb9f3a"
             ],
             [
              0.8888888888888888,
              "#fdca26"
             ],
             [
              1,
              "#f0f921"
             ]
            ],
            "type": "histogram2d"
           }
          ],
          "histogram2dcontour": [
           {
            "colorbar": {
             "outlinewidth": 0,
             "ticks": ""
            },
            "colorscale": [
             [
              0,
              "#0d0887"
             ],
             [
              0.1111111111111111,
              "#46039f"
             ],
             [
              0.2222222222222222,
              "#7201a8"
             ],
             [
              0.3333333333333333,
              "#9c179e"
             ],
             [
              0.4444444444444444,
              "#bd3786"
             ],
             [
              0.5555555555555556,
              "#d8576b"
             ],
             [
              0.6666666666666666,
              "#ed7953"
             ],
             [
              0.7777777777777778,
              "#fb9f3a"
             ],
             [
              0.8888888888888888,
              "#fdca26"
             ],
             [
              1,
              "#f0f921"
             ]
            ],
            "type": "histogram2dcontour"
           }
          ],
          "mesh3d": [
           {
            "colorbar": {
             "outlinewidth": 0,
             "ticks": ""
            },
            "type": "mesh3d"
           }
          ],
          "parcoords": [
           {
            "line": {
             "colorbar": {
              "outlinewidth": 0,
              "ticks": ""
             }
            },
            "type": "parcoords"
           }
          ],
          "pie": [
           {
            "automargin": true,
            "type": "pie"
           }
          ],
          "scatter": [
           {
            "fillpattern": {
             "fillmode": "overlay",
             "size": 10,
             "solidity": 0.2
            },
            "type": "scatter"
           }
          ],
          "scatter3d": [
           {
            "line": {
             "colorbar": {
              "outlinewidth": 0,
              "ticks": ""
             }
            },
            "marker": {
             "colorbar": {
              "outlinewidth": 0,
              "ticks": ""
             }
            },
            "type": "scatter3d"
           }
          ],
          "scattercarpet": [
           {
            "marker": {
             "colorbar": {
              "outlinewidth": 0,
              "ticks": ""
             }
            },
            "type": "scattercarpet"
           }
          ],
          "scattergeo": [
           {
            "marker": {
             "colorbar": {
              "outlinewidth": 0,
              "ticks": ""
             }
            },
            "type": "scattergeo"
           }
          ],
          "scattergl": [
           {
            "marker": {
             "colorbar": {
              "outlinewidth": 0,
              "ticks": ""
             }
            },
            "type": "scattergl"
           }
          ],
          "scattermapbox": [
           {
            "marker": {
             "colorbar": {
              "outlinewidth": 0,
              "ticks": ""
             }
            },
            "type": "scattermapbox"
           }
          ],
          "scatterpolar": [
           {
            "marker": {
             "colorbar": {
              "outlinewidth": 0,
              "ticks": ""
             }
            },
            "type": "scatterpolar"
           }
          ],
          "scatterpolargl": [
           {
            "marker": {
             "colorbar": {
              "outlinewidth": 0,
              "ticks": ""
             }
            },
            "type": "scatterpolargl"
           }
          ],
          "scatterternary": [
           {
            "marker": {
             "colorbar": {
              "outlinewidth": 0,
              "ticks": ""
             }
            },
            "type": "scatterternary"
           }
          ],
          "surface": [
           {
            "colorbar": {
             "outlinewidth": 0,
             "ticks": ""
            },
            "colorscale": [
             [
              0,
              "#0d0887"
             ],
             [
              0.1111111111111111,
              "#46039f"
             ],
             [
              0.2222222222222222,
              "#7201a8"
             ],
             [
              0.3333333333333333,
              "#9c179e"
             ],
             [
              0.4444444444444444,
              "#bd3786"
             ],
             [
              0.5555555555555556,
              "#d8576b"
             ],
             [
              0.6666666666666666,
              "#ed7953"
             ],
             [
              0.7777777777777778,
              "#fb9f3a"
             ],
             [
              0.8888888888888888,
              "#fdca26"
             ],
             [
              1,
              "#f0f921"
             ]
            ],
            "type": "surface"
           }
          ],
          "table": [
           {
            "cells": {
             "fill": {
              "color": "#EBF0F8"
             },
             "line": {
              "color": "white"
             }
            },
            "header": {
             "fill": {
              "color": "#C8D4E3"
             },
             "line": {
              "color": "white"
             }
            },
            "type": "table"
           }
          ]
         },
         "layout": {
          "annotationdefaults": {
           "arrowcolor": "#2a3f5f",
           "arrowhead": 0,
           "arrowwidth": 1
          },
          "autotypenumbers": "strict",
          "coloraxis": {
           "colorbar": {
            "outlinewidth": 0,
            "ticks": ""
           }
          },
          "colorscale": {
           "diverging": [
            [
             0,
             "#8e0152"
            ],
            [
             0.1,
             "#c51b7d"
            ],
            [
             0.2,
             "#de77ae"
            ],
            [
             0.3,
             "#f1b6da"
            ],
            [
             0.4,
             "#fde0ef"
            ],
            [
             0.5,
             "#f7f7f7"
            ],
            [
             0.6,
             "#e6f5d0"
            ],
            [
             0.7,
             "#b8e186"
            ],
            [
             0.8,
             "#7fbc41"
            ],
            [
             0.9,
             "#4d9221"
            ],
            [
             1,
             "#276419"
            ]
           ],
           "sequential": [
            [
             0,
             "#0d0887"
            ],
            [
             0.1111111111111111,
             "#46039f"
            ],
            [
             0.2222222222222222,
             "#7201a8"
            ],
            [
             0.3333333333333333,
             "#9c179e"
            ],
            [
             0.4444444444444444,
             "#bd3786"
            ],
            [
             0.5555555555555556,
             "#d8576b"
            ],
            [
             0.6666666666666666,
             "#ed7953"
            ],
            [
             0.7777777777777778,
             "#fb9f3a"
            ],
            [
             0.8888888888888888,
             "#fdca26"
            ],
            [
             1,
             "#f0f921"
            ]
           ],
           "sequentialminus": [
            [
             0,
             "#0d0887"
            ],
            [
             0.1111111111111111,
             "#46039f"
            ],
            [
             0.2222222222222222,
             "#7201a8"
            ],
            [
             0.3333333333333333,
             "#9c179e"
            ],
            [
             0.4444444444444444,
             "#bd3786"
            ],
            [
             0.5555555555555556,
             "#d8576b"
            ],
            [
             0.6666666666666666,
             "#ed7953"
            ],
            [
             0.7777777777777778,
             "#fb9f3a"
            ],
            [
             0.8888888888888888,
             "#fdca26"
            ],
            [
             1,
             "#f0f921"
            ]
           ]
          },
          "colorway": [
           "#636efa",
           "#EF553B",
           "#00cc96",
           "#ab63fa",
           "#FFA15A",
           "#19d3f3",
           "#FF6692",
           "#B6E880",
           "#FF97FF",
           "#FECB52"
          ],
          "font": {
           "color": "#2a3f5f"
          },
          "geo": {
           "bgcolor": "white",
           "lakecolor": "white",
           "landcolor": "#E5ECF6",
           "showlakes": true,
           "showland": true,
           "subunitcolor": "white"
          },
          "hoverlabel": {
           "align": "left"
          },
          "hovermode": "closest",
          "mapbox": {
           "style": "light"
          },
          "paper_bgcolor": "white",
          "plot_bgcolor": "#E5ECF6",
          "polar": {
           "angularaxis": {
            "gridcolor": "white",
            "linecolor": "white",
            "ticks": ""
           },
           "bgcolor": "#E5ECF6",
           "radialaxis": {
            "gridcolor": "white",
            "linecolor": "white",
            "ticks": ""
           }
          },
          "scene": {
           "xaxis": {
            "backgroundcolor": "#E5ECF6",
            "gridcolor": "white",
            "gridwidth": 2,
            "linecolor": "white",
            "showbackground": true,
            "ticks": "",
            "zerolinecolor": "white"
           },
           "yaxis": {
            "backgroundcolor": "#E5ECF6",
            "gridcolor": "white",
            "gridwidth": 2,
            "linecolor": "white",
            "showbackground": true,
            "ticks": "",
            "zerolinecolor": "white"
           },
           "zaxis": {
            "backgroundcolor": "#E5ECF6",
            "gridcolor": "white",
            "gridwidth": 2,
            "linecolor": "white",
            "showbackground": true,
            "ticks": "",
            "zerolinecolor": "white"
           }
          },
          "shapedefaults": {
           "line": {
            "color": "#2a3f5f"
           }
          },
          "ternary": {
           "aaxis": {
            "gridcolor": "white",
            "linecolor": "white",
            "ticks": ""
           },
           "baxis": {
            "gridcolor": "white",
            "linecolor": "white",
            "ticks": ""
           },
           "bgcolor": "#E5ECF6",
           "caxis": {
            "gridcolor": "white",
            "linecolor": "white",
            "ticks": ""
           }
          },
          "title": {
           "x": 0.05
          },
          "xaxis": {
           "automargin": true,
           "gridcolor": "white",
           "linecolor": "white",
           "ticks": "",
           "title": {
            "standoff": 15
           },
           "zerolinecolor": "white",
           "zerolinewidth": 2
          },
          "yaxis": {
           "automargin": true,
           "gridcolor": "white",
           "linecolor": "white",
           "ticks": "",
           "title": {
            "standoff": 15
           },
           "zerolinecolor": "white",
           "zerolinewidth": 2
          }
         }
        },
        "title": {
         "font": {
          "size": 20
         },
         "text": "<b>Food price index, 2014-16=100</b>"
        },
        "width": 800,
        "xaxis": {
         "anchor": "free",
         "domain": [
          0,
          1
         ],
         "linewidth": 2,
         "position": 0,
         "range": [
          1,
          13
         ],
         "showgrid": false,
         "showline": false,
         "tickfont": {
          "size": 16
         },
         "ticklabeloverflow": "allow",
         "ticklen": 10,
         "tickmode": "array",
         "ticks": "outside",
         "ticktext": [
          "J",
          "F",
          "M",
          "A",
          "M",
          "J",
          "J",
          "A",
          "S",
          "O",
          "N",
          "D"
         ],
         "tickvals": [
          1,
          2,
          3,
          4,
          5,
          6,
          7,
          8,
          9,
          10,
          11,
          12
         ],
         "tickwidth": 2
        },
        "yaxis": {
         "anchor": "x",
         "domain": [
          0,
          1
         ],
         "dtick": 40,
         "gridcolor": "#f3f3f3",
         "gridwidth": 3,
         "range": [
          75,
          170
         ],
         "side": "right",
         "tick0": 80,
         "tickfont": {
          "size": 16
         },
         "ticklabelposition": "inside top"
        }
       }
      },
      "text/html": [
       "<div>                            <div id=\"4831776d-d9b1-46fc-96f5-e4a1fe8add5c\" class=\"plotly-graph-div\" style=\"height:525px; width:800px;\"></div>            <script type=\"text/javascript\">                require([\"plotly\"], function(Plotly) {                    window.PLOTLYENV=window.PLOTLYENV || {};                                    if (document.getElementById(\"4831776d-d9b1-46fc-96f5-e4a1fe8add5c\")) {                    Plotly.newPlot(                        \"4831776d-d9b1-46fc-96f5-e4a1fe8add5c\",                        [{\"line\":{\"color\":\"#cecece\",\"width\":3.5},\"marker\":{\"opacity\":0},\"name\":\"2019\",\"x\":[1,2,3,4,5,6,7,8,9,10,11,12],\"y\":[93.3,94.0,93.2,93.6,94.3,95.4,95.1,94.1,93.4,95.2,98.6,101.0],\"type\":\"scatter\"},{\"line\":{\"color\":\"#b6b6b6\",\"width\":3.5},\"marker\":{\"opacity\":0},\"name\":\"2020\",\"x\":[1,2,3,4,5,6,7,8,9,10,11,12],\"y\":[102.5,99.4,95.2,92.5,91.1,93.3,94.0,95.9,98.0,101.4,105.6,108.6],\"type\":\"scatter\"},{\"line\":{\"color\":\"#808080\",\"width\":3.5},\"marker\":{\"opacity\":0},\"name\":\"2021\",\"x\":[1,2,3,4,5,6,7,8,9,10,11,12],\"y\":[113.5,116.6,119.2,122.1,128.1,125.3,124.6,128.0,129.2,133.2,135.3,133.7],\"type\":\"scatter\"},{\"line\":{\"color\":\"#c50027\",\"width\":3.5},\"marker\":{\"opacity\":0},\"name\":\"2022\",\"x\":[1,2,3,4,5,6,7,8,9,10,11,12],\"y\":[135.6,141.4,159.3,null,null,null,null,null,null,null,null,null],\"type\":\"scatter\"}],                        {\"template\":{\"data\":{\"histogram2dcontour\":[{\"type\":\"histogram2dcontour\",\"colorbar\":{\"outlinewidth\":0,\"ticks\":\"\"},\"colorscale\":[[0.0,\"#0d0887\"],[0.1111111111111111,\"#46039f\"],[0.2222222222222222,\"#7201a8\"],[0.3333333333333333,\"#9c179e\"],[0.4444444444444444,\"#bd3786\"],[0.5555555555555556,\"#d8576b\"],[0.6666666666666666,\"#ed7953\"],[0.7777777777777778,\"#fb9f3a\"],[0.8888888888888888,\"#fdca26\"],[1.0,\"#f0f921\"]]}],\"choropleth\":[{\"type\":\"choropleth\",\"colorbar\":{\"outlinewidth\":0,\"ticks\":\"\"}}],\"histogram2d\":[{\"type\":\"histogram2d\",\"colorbar\":{\"outlinewidth\":0,\"ticks\":\"\"},\"colorscale\":[[0.0,\"#0d0887\"],[0.1111111111111111,\"#46039f\"],[0.2222222222222222,\"#7201a8\"],[0.3333333333333333,\"#9c179e\"],[0.4444444444444444,\"#bd3786\"],[0.5555555555555556,\"#d8576b\"],[0.6666666666666666,\"#ed7953\"],[0.7777777777777778,\"#fb9f3a\"],[0.8888888888888888,\"#fdca26\"],[1.0,\"#f0f921\"]]}],\"heatmap\":[{\"type\":\"heatmap\",\"colorbar\":{\"outlinewidth\":0,\"ticks\":\"\"},\"colorscale\":[[0.0,\"#0d0887\"],[0.1111111111111111,\"#46039f\"],[0.2222222222222222,\"#7201a8\"],[0.3333333333333333,\"#9c179e\"],[0.4444444444444444,\"#bd3786\"],[0.5555555555555556,\"#d8576b\"],[0.6666666666666666,\"#ed7953\"],[0.7777777777777778,\"#fb9f3a\"],[0.8888888888888888,\"#fdca26\"],[1.0,\"#f0f921\"]]}],\"heatmapgl\":[{\"type\":\"heatmapgl\",\"colorbar\":{\"outlinewidth\":0,\"ticks\":\"\"},\"colorscale\":[[0.0,\"#0d0887\"],[0.1111111111111111,\"#46039f\"],[0.2222222222222222,\"#7201a8\"],[0.3333333333333333,\"#9c179e\"],[0.4444444444444444,\"#bd3786\"],[0.5555555555555556,\"#d8576b\"],[0.6666666666666666,\"#ed7953\"],[0.7777777777777778,\"#fb9f3a\"],[0.8888888888888888,\"#fdca26\"],[1.0,\"#f0f921\"]]}],\"contourcarpet\":[{\"type\":\"contourcarpet\",\"colorbar\":{\"outlinewidth\":0,\"ticks\":\"\"}}],\"contour\":[{\"type\":\"contour\",\"colorbar\":{\"outlinewidth\":0,\"ticks\":\"\"},\"colorscale\":[[0.0,\"#0d0887\"],[0.1111111111111111,\"#46039f\"],[0.2222222222222222,\"#7201a8\"],[0.3333333333333333,\"#9c179e\"],[0.4444444444444444,\"#bd3786\"],[0.5555555555555556,\"#d8576b\"],[0.6666666666666666,\"#ed7953\"],[0.7777777777777778,\"#fb9f3a\"],[0.8888888888888888,\"#fdca26\"],[1.0,\"#f0f921\"]]}],\"surface\":[{\"type\":\"surface\",\"colorbar\":{\"outlinewidth\":0,\"ticks\":\"\"},\"colorscale\":[[0.0,\"#0d0887\"],[0.1111111111111111,\"#46039f\"],[0.2222222222222222,\"#7201a8\"],[0.3333333333333333,\"#9c179e\"],[0.4444444444444444,\"#bd3786\"],[0.5555555555555556,\"#d8576b\"],[0.6666666666666666,\"#ed7953\"],[0.7777777777777778,\"#fb9f3a\"],[0.8888888888888888,\"#fdca26\"],[1.0,\"#f0f921\"]]}],\"mesh3d\":[{\"type\":\"mesh3d\",\"colorbar\":{\"outlinewidth\":0,\"ticks\":\"\"}}],\"scatter\":[{\"fillpattern\":{\"fillmode\":\"overlay\",\"size\":10,\"solidity\":0.2},\"type\":\"scatter\"}],\"parcoords\":[{\"type\":\"parcoords\",\"line\":{\"colorbar\":{\"outlinewidth\":0,\"ticks\":\"\"}}}],\"scatterpolargl\":[{\"type\":\"scatterpolargl\",\"marker\":{\"colorbar\":{\"outlinewidth\":0,\"ticks\":\"\"}}}],\"bar\":[{\"error_x\":{\"color\":\"#2a3f5f\"},\"error_y\":{\"color\":\"#2a3f5f\"},\"marker\":{\"line\":{\"color\":\"#E5ECF6\",\"width\":0.5},\"pattern\":{\"fillmode\":\"overlay\",\"size\":10,\"solidity\":0.2}},\"type\":\"bar\"}],\"scattergeo\":[{\"type\":\"scattergeo\",\"marker\":{\"colorbar\":{\"outlinewidth\":0,\"ticks\":\"\"}}}],\"scatterpolar\":[{\"type\":\"scatterpolar\",\"marker\":{\"colorbar\":{\"outlinewidth\":0,\"ticks\":\"\"}}}],\"histogram\":[{\"marker\":{\"pattern\":{\"fillmode\":\"overlay\",\"size\":10,\"solidity\":0.2}},\"type\":\"histogram\"}],\"scattergl\":[{\"type\":\"scattergl\",\"marker\":{\"colorbar\":{\"outlinewidth\":0,\"ticks\":\"\"}}}],\"scatter3d\":[{\"type\":\"scatter3d\",\"line\":{\"colorbar\":{\"outlinewidth\":0,\"ticks\":\"\"}},\"marker\":{\"colorbar\":{\"outlinewidth\":0,\"ticks\":\"\"}}}],\"scattermapbox\":[{\"type\":\"scattermapbox\",\"marker\":{\"colorbar\":{\"outlinewidth\":0,\"ticks\":\"\"}}}],\"scatterternary\":[{\"type\":\"scatterternary\",\"marker\":{\"colorbar\":{\"outlinewidth\":0,\"ticks\":\"\"}}}],\"scattercarpet\":[{\"type\":\"scattercarpet\",\"marker\":{\"colorbar\":{\"outlinewidth\":0,\"ticks\":\"\"}}}],\"carpet\":[{\"aaxis\":{\"endlinecolor\":\"#2a3f5f\",\"gridcolor\":\"white\",\"linecolor\":\"white\",\"minorgridcolor\":\"white\",\"startlinecolor\":\"#2a3f5f\"},\"baxis\":{\"endlinecolor\":\"#2a3f5f\",\"gridcolor\":\"white\",\"linecolor\":\"white\",\"minorgridcolor\":\"white\",\"startlinecolor\":\"#2a3f5f\"},\"type\":\"carpet\"}],\"table\":[{\"cells\":{\"fill\":{\"color\":\"#EBF0F8\"},\"line\":{\"color\":\"white\"}},\"header\":{\"fill\":{\"color\":\"#C8D4E3\"},\"line\":{\"color\":\"white\"}},\"type\":\"table\"}],\"barpolar\":[{\"marker\":{\"line\":{\"color\":\"#E5ECF6\",\"width\":0.5},\"pattern\":{\"fillmode\":\"overlay\",\"size\":10,\"solidity\":0.2}},\"type\":\"barpolar\"}],\"pie\":[{\"automargin\":true,\"type\":\"pie\"}]},\"layout\":{\"autotypenumbers\":\"strict\",\"colorway\":[\"#636efa\",\"#EF553B\",\"#00cc96\",\"#ab63fa\",\"#FFA15A\",\"#19d3f3\",\"#FF6692\",\"#B6E880\",\"#FF97FF\",\"#FECB52\"],\"font\":{\"color\":\"#2a3f5f\"},\"hovermode\":\"closest\",\"hoverlabel\":{\"align\":\"left\"},\"paper_bgcolor\":\"white\",\"plot_bgcolor\":\"#E5ECF6\",\"polar\":{\"bgcolor\":\"#E5ECF6\",\"angularaxis\":{\"gridcolor\":\"white\",\"linecolor\":\"white\",\"ticks\":\"\"},\"radialaxis\":{\"gridcolor\":\"white\",\"linecolor\":\"white\",\"ticks\":\"\"}},\"ternary\":{\"bgcolor\":\"#E5ECF6\",\"aaxis\":{\"gridcolor\":\"white\",\"linecolor\":\"white\",\"ticks\":\"\"},\"baxis\":{\"gridcolor\":\"white\",\"linecolor\":\"white\",\"ticks\":\"\"},\"caxis\":{\"gridcolor\":\"white\",\"linecolor\":\"white\",\"ticks\":\"\"}},\"coloraxis\":{\"colorbar\":{\"outlinewidth\":0,\"ticks\":\"\"}},\"colorscale\":{\"sequential\":[[0.0,\"#0d0887\"],[0.1111111111111111,\"#46039f\"],[0.2222222222222222,\"#7201a8\"],[0.3333333333333333,\"#9c179e\"],[0.4444444444444444,\"#bd3786\"],[0.5555555555555556,\"#d8576b\"],[0.6666666666666666,\"#ed7953\"],[0.7777777777777778,\"#fb9f3a\"],[0.8888888888888888,\"#fdca26\"],[1.0,\"#f0f921\"]],\"sequentialminus\":[[0.0,\"#0d0887\"],[0.1111111111111111,\"#46039f\"],[0.2222222222222222,\"#7201a8\"],[0.3333333333333333,\"#9c179e\"],[0.4444444444444444,\"#bd3786\"],[0.5555555555555556,\"#d8576b\"],[0.6666666666666666,\"#ed7953\"],[0.7777777777777778,\"#fb9f3a\"],[0.8888888888888888,\"#fdca26\"],[1.0,\"#f0f921\"]],\"diverging\":[[0,\"#8e0152\"],[0.1,\"#c51b7d\"],[0.2,\"#de77ae\"],[0.3,\"#f1b6da\"],[0.4,\"#fde0ef\"],[0.5,\"#f7f7f7\"],[0.6,\"#e6f5d0\"],[0.7,\"#b8e186\"],[0.8,\"#7fbc41\"],[0.9,\"#4d9221\"],[1,\"#276419\"]]},\"xaxis\":{\"gridcolor\":\"white\",\"linecolor\":\"white\",\"ticks\":\"\",\"title\":{\"standoff\":15},\"zerolinecolor\":\"white\",\"automargin\":true,\"zerolinewidth\":2},\"yaxis\":{\"gridcolor\":\"white\",\"linecolor\":\"white\",\"ticks\":\"\",\"title\":{\"standoff\":15},\"zerolinecolor\":\"white\",\"automargin\":true,\"zerolinewidth\":2},\"scene\":{\"xaxis\":{\"backgroundcolor\":\"#E5ECF6\",\"gridcolor\":\"white\",\"linecolor\":\"white\",\"showbackground\":true,\"ticks\":\"\",\"zerolinecolor\":\"white\",\"gridwidth\":2},\"yaxis\":{\"backgroundcolor\":\"#E5ECF6\",\"gridcolor\":\"white\",\"linecolor\":\"white\",\"showbackground\":true,\"ticks\":\"\",\"zerolinecolor\":\"white\",\"gridwidth\":2},\"zaxis\":{\"backgroundcolor\":\"#E5ECF6\",\"gridcolor\":\"white\",\"linecolor\":\"white\",\"showbackground\":true,\"ticks\":\"\",\"zerolinecolor\":\"white\",\"gridwidth\":2}},\"shapedefaults\":{\"line\":{\"color\":\"#2a3f5f\"}},\"annotationdefaults\":{\"arrowcolor\":\"#2a3f5f\",\"arrowhead\":0,\"arrowwidth\":1},\"geo\":{\"bgcolor\":\"white\",\"landcolor\":\"#E5ECF6\",\"subunitcolor\":\"white\",\"showland\":true,\"showlakes\":true,\"lakecolor\":\"white\"},\"title\":{\"x\":0.05},\"mapbox\":{\"style\":\"light\"}}},\"xaxis\":{\"anchor\":\"free\",\"domain\":[0.0,1.0],\"tickfont\":{\"size\":16},\"showline\":false,\"position\":0,\"linewidth\":2,\"range\":[1,13],\"showgrid\":false,\"ticks\":\"outside\",\"tickmode\":\"array\",\"ticktext\":[\"J\",\"F\",\"M\",\"A\",\"M\",\"J\",\"J\",\"A\",\"S\",\"O\",\"N\",\"D\"],\"tickvals\":[1,2,3,4,5,6,7,8,9,10,11,12],\"tickwidth\":2,\"ticklabeloverflow\":\"allow\",\"ticklen\":10},\"yaxis\":{\"anchor\":\"x\",\"domain\":[0.0,1.0],\"tickfont\":{\"size\":16},\"gridcolor\":\"#f3f3f3\",\"gridwidth\":3,\"range\":[75,170],\"tick0\":80,\"dtick\":40,\"ticklabelposition\":\"inside top\",\"side\":\"right\"},\"legend\":{\"tracegroupgap\":0},\"margin\":{\"t\":45,\"l\":45,\"b\":45,\"r\":45},\"annotations\":[{\"font\":{\"color\":\"#c50027\",\"family\":\"Arial, bold\",\"size\":18},\"showarrow\":false,\"text\":\"<b>2022</b>\",\"x\":2.75,\"xref\":\"x\",\"y\":140,\"yref\":\"y\"},{\"font\":{\"color\":\"#808080\",\"family\":\"Arial, bold\",\"size\":18},\"showarrow\":false,\"text\":\"<b>2021</b>\",\"x\":12,\"xanchor\":\"right\",\"xref\":\"x\",\"y\":140,\"yref\":\"y\"},{\"font\":{\"color\":\"#b6b6b6\",\"family\":\"Arial, bold\",\"size\":18},\"showarrow\":false,\"text\":\"<b>2020</b>\",\"x\":12,\"xanchor\":\"right\",\"xref\":\"x\",\"y\":115,\"yref\":\"y\"},{\"font\":{\"color\":\"#cecece\",\"family\":\"Arial, bold\",\"size\":18},\"showarrow\":false,\"text\":\"<b>2019</b>\",\"x\":12,\"xanchor\":\"right\",\"xref\":\"x\",\"y\":95,\"yref\":\"y\"}],\"title\":{\"font\":{\"size\":20},\"text\":\"<b>Food price index, 2014-16=100</b>\"},\"showlegend\":false,\"width\":800,\"plot_bgcolor\":\"#fff\",\"shapes\":[{\"line\":{\"color\":\"#000\",\"width\":5},\"type\":\"line\",\"x0\":0,\"x1\":12,\"y0\":75,\"y1\":75}]},                        {\"responsive\": true}                    ).then(function(){\n",
       "                            \n",
       "var gd = document.getElementById('4831776d-d9b1-46fc-96f5-e4a1fe8add5c');\n",
       "var x = new MutationObserver(function (mutations, observer) {{\n",
       "        var display = window.getComputedStyle(gd).display;\n",
       "        if (!display || display === 'none') {{\n",
       "            console.log([gd, 'removed!']);\n",
       "            Plotly.purge(gd);\n",
       "            observer.disconnect();\n",
       "        }}\n",
       "}});\n",
       "\n",
       "// Listen for the removal of the full notebook cells\n",
       "var notebookContainer = gd.closest('#notebook-container');\n",
       "if (notebookContainer) {{\n",
       "    x.observe(notebookContainer, {childList: true});\n",
       "}}\n",
       "\n",
       "// Listen for the clearing of the current output cell\n",
       "var outputEl = gd.closest('.output');\n",
       "if (outputEl) {{\n",
       "    x.observe(outputEl, {childList: true});\n",
       "}}\n",
       "\n",
       "                        })                };                });            </script>        </div>"
      ]
     },
     "metadata": {},
     "output_type": "display_data"
    }
   ],
   "source": [
    "fig = px.line()\n",
    "for col, color in zip(graph_df.columns, colors):\n",
    "    fig.add_scatter(x=graph_df.index, y=graph_df[col], name = col, line=dict(width=3.5, color=color), marker=dict(opacity=0))\n",
    "fig.add_annotation(x=2.75, y=140, xref='x', yref='y', text='<b>2022</b>', showarrow=False, font=dict(family=\"Arial, bold\",size=18,color=\"#c50027\"))\n",
    "fig.add_annotation(x=12, y=140, xref='x', yref='y', text='<b>2021</b>', showarrow=False, font=dict(family=\"Arial, bold\",size=18,color=\"#808080\"), xanchor='right')\n",
    "fig.add_annotation(x=12, y=115, xref='x', yref='y', text='<b>2020</b>', showarrow=False, font=dict(family=\"Arial, bold\",size=18,color=\"#b6b6b6\"), xanchor='right')\n",
    "fig.add_annotation(x=12, y=95, xref='x', yref='y', text='<b>2019</b>', showarrow=False, font=dict(family=\"Arial, bold\",size=18,color=\"#cecece\"), xanchor='right')\n",
    "fig.update_layout(\n",
    "    {\n",
    "        'title': {\n",
    "            'text': '<b>Food price index, 2014-16=100</b>',\n",
    "            'font': {\n",
    "                'size': 20,\n",
    "            },\n",
    "        },\n",
    "        'showlegend': False,\n",
    "        'width':800,\n",
    "        'plot_bgcolor': '#fff',\n",
    "        'margin': {\n",
    "            'l': 45,\n",
    "            't': 45,\n",
    "            'b': 45,\n",
    "            'r': 45\n",
    "        },\n",
    "        'yaxis': {\n",
    "            'gridcolor': '#f3f3f3',\n",
    "            'gridwidth': 3,\n",
    "            'range': [75, 170],\n",
    "            'tick0': 80,\n",
    "            'dtick': 40,\n",
    "            'ticklabelposition': 'inside top',\n",
    "            'side': 'right',\n",
    "            'tickfont': {\n",
    "                'size': 16\n",
    "            }\n",
    "        },\n",
    "        'xaxis': {\n",
    "            'showline': False,\n",
    "            # 'linecolor': '#000',\n",
    "            'anchor': 'free',\n",
    "            'position': 0,\n",
    "            'linewidth': 2,\n",
    "            'range': [1,13],\n",
    "            'showgrid': False,\n",
    "            'ticks': 'outside',\n",
    "            'tickmode': 'array',\n",
    "            'ticktext': ['J', 'F', 'M', 'A', 'M', 'J', 'J', 'A', 'S', 'O', 'N', 'D'],\n",
    "            'tickvals': graph_df.index,\n",
    "            'tickwidth': 2,\n",
    "            'ticklabeloverflow': 'allow',\n",
    "            'ticklen': 10,\n",
    "            'tickfont': {\n",
    "                'size': 16\n",
    "            }\n",
    "        },\n",
    "        'shapes': [\n",
    "            {\n",
    "                'type': 'line',\n",
    "                'x0': 0,\n",
    "                'y0': 75,\n",
    "                'x1': 12,\n",
    "                'y1': 75,\n",
    "                'line': {\n",
    "                    'width': 5,\n",
    "                    'color': '#000'\n",
    "                }\n",
    "            }\n",
    "        ]\n",
    "    }\n",
    ")\n",
    "fig.show()"
   ]
  }
 ],
 "metadata": {
  "interpreter": {
   "hash": "4365c1b233255a93e0ee21660f26b63029dcde0c4065f1b81d9872f99150f8a2"
  },
  "kernelspec": {
   "display_name": "Python 3.8.10 ('.venv': venv)",
   "language": "python",
   "name": "python3"
  },
  "language_info": {
   "codemirror_mode": {
    "name": "ipython",
    "version": 3
   },
   "file_extension": ".py",
   "mimetype": "text/x-python",
   "name": "python",
   "nbconvert_exporter": "python",
   "pygments_lexer": "ipython3",
   "version": "3.8.10"
  },
  "orig_nbformat": 4
 },
 "nbformat": 4,
 "nbformat_minor": 2
}
